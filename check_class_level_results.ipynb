{
 "cells": [
  {
   "cell_type": "code",
   "execution_count": 1,
   "metadata": {},
   "outputs": [],
   "source": [
    "import os\n",
    "import scipy.io as sio\n",
    "import numpy as np\n",
    "\n",
    "# Mac\n",
    "#data_root = '/Volumes/GoogleDrive/My Drive/colab_data/action_datasets'\n",
    "# Windows\n",
    "data_root = 'G:\\\\My Drive\\\\colab_data\\\\action_datasets'\n",
    "dataset = 'hmdb51'  # ucf101\n",
    "\n",
    "# /Volumes/GoogleDrive/My Drive/colab_data/action_datasets/hmdb51'\n",
    "dataset_path = os.path.join(data_root, dataset)\n",
    "\n",
    "# /Volumes/GoogleDrive/My Drive/colab_data/action_datasets/hmdb51/hmdb51_semantics/split_1/att_splits.mat'\n",
    "split_path = os.path.join(dataset_path, 'hmdb51_semantics/split_1')\n",
    "\n",
    "mat_i3d = sio.loadmat(dataset_path + '/hmdb51_i3d.mat')\n",
    "mat_split = sio.loadmat(split_path + '/att_splits.mat')\n",
    "\n",
    "all_labels = mat_i3d['labels']\n",
    "all_labels_names = mat_split['allclasses_names']\n",
    "test_unseen_loc = mat_split['test_unseen_loc']"
   ]
  },
  {
   "cell_type": "code",
   "execution_count": 2,
   "metadata": {},
   "outputs": [
    {
     "name": "stdout",
     "output_type": "stream",
     "text": [
      "[ 0  0  0 ... 50 50 50]\n",
      "6766\n",
      "[   0    1    2 ... 6659 6660 6661]\n",
      "3616\n"
     ]
    }
   ],
   "source": [
    "all_labels = all_labels.squeeze() - 1\n",
    "test_unseen_loc = test_unseen_loc.squeeze() - 1 \n",
    "\n",
    "print(all_labels)\n",
    "print(len(all_labels))\n",
    "print(test_unseen_loc)\n",
    "print(len(test_unseen_loc))\n"
   ]
  },
  {
   "cell_type": "code",
   "execution_count": 3,
   "metadata": {},
   "outputs": [
    {
     "name": "stdout",
     "output_type": "stream",
     "text": [
      "['brush hair' 'cart wheel' 'catch' 'chew' 'clap' 'climb' 'climb stairs'\n",
      " 'dive' 'draw sword' 'dribble' 'drink' 'eat' 'fall floor' 'fencing'\n",
      " 'flic flac' 'golf' 'hand stand' 'hit' 'hug' 'jump' 'kick' 'kick ball'\n",
      " 'kiss' 'laugh' 'pick' 'pour' 'pullup' 'punch' 'push' 'pushup' 'ride bike'\n",
      " 'ride horse' 'run' 'shake hands' 'shoot ball' 'shoot bow' 'shoot gun'\n",
      " 'sit' 'situp' 'smile' 'smoke' 'somersault' 'stand' 'swing baseball'\n",
      " 'sword exercise' 'sword' 'talk' 'throw' 'turn' 'walk' 'wave']\n"
     ]
    }
   ],
   "source": [
    "all_labels_names_clean = []\n",
    "for i in range(len(all_labels_names)):\n",
    "    all_labels_names_clean.append(all_labels_names[i][0][0])\n",
    "\n",
    "all_labels_names = np.array(all_labels_names_clean)\n",
    "\n",
    "# All labels names\n",
    "print(all_labels_names)"
   ]
  },
  {
   "cell_type": "code",
   "execution_count": 4,
   "metadata": {},
   "outputs": [],
   "source": [
    "unseen_label = all_labels[test_unseen_loc]\n",
    "\n",
    "# print(len(np.unique(unseen_label))) # should be 25\n",
    "# print(len(all_labels_names[unseen_label])) # shplit 1: 3616 testing videos"
   ]
  },
  {
   "cell_type": "code",
   "execution_count": 5,
   "metadata": {},
   "outputs": [
    {
     "data": {
      "text/plain": [
       "array([ 0,  2,  5,  8, 10, 11, 12, 15, 16, 17, 18, 20, 21, 22, 27, 28, 29,\n",
       "       30, 32, 33, 36, 38, 45, 48, 49], dtype=uint8)"
      ]
     },
     "execution_count": 5,
     "metadata": {},
     "output_type": "execute_result"
    }
   ],
   "source": [
    "np.unique(unseen_label)"
   ]
  },
  {
   "cell_type": "code",
   "execution_count": 6,
   "metadata": {},
   "outputs": [
    {
     "name": "stdout",
     "output_type": "stream",
     "text": [
      "['brush hair', 'catch', 'climb', 'draw sword', 'drink', 'eat', 'fall floor', 'golf', 'hand stand', 'hit', 'hug', 'kick', 'kick ball', 'kiss', 'punch', 'push', 'pushup', 'ride bike', 'run', 'shake hands', 'shoot gun', 'situp', 'sword', 'turn', 'walk']\n"
     ]
    }
   ],
   "source": [
    "unique_unseen_label = np.unique(unseen_label)\n",
    "unseen_label_name = []\n",
    "for i in range(len(unique_unseen_label)):\n",
    "    unseen_label_name.append(all_labels_names[unique_unseen_label[i]])\n",
    "print(unseen_label_name)\n",
    "    \n",
    "    "
   ]
  },
  {
   "cell_type": "code",
   "execution_count": 7,
   "metadata": {},
   "outputs": [],
   "source": [
    "import csv\n",
    "with open('hmdb51_acc_per_class_all.csv', 'a+') as f:\n",
    "    write = csv.writer(f)\n",
    "    write.writerow(unseen_label_name)"
   ]
  },
  {
   "cell_type": "code",
   "execution_count": 17,
   "metadata": {},
   "outputs": [],
   "source": [
    "import csv\n",
    "\n",
    "# Mac\n",
    "# results_root = '/Volumes/GoogleDrive/My Drive/colab_data/KG_GCN_GAN/zsl'\n",
    "# Windows\n",
    "results_root = 'G:\\\\My Drive\\\\colab_data\\\\KG_GCN_GAN\\\\zsl'\n",
    "\n",
    "file = 'exp_zsl_results_hmdb51_action_class_w2v_avg_img_googlenet_me_max_dual.txt'\n",
    "split =[]\n",
    "acc_per_class = []\n",
    "acc_per_class_all_split = []\n",
    "\n",
    "with open(os.path.join(results_root, dataset, file)) as f:\n",
    "    lines = [line.rstrip() for line in f]\n",
    "    # sp1: 10,11,12; sp2: 23,24,25; sp3: 36,37,38\n",
    "    for i in range(0,3):\n",
    "        split = lines[10+i*13] + lines[11+i*13] + lines[12+i*13]\n",
    "        #print(split)\n",
    "        acc_per_class = split.replace('(', '').replace(')', '').replace('[', '').replace(']', '').replace(' ', '').replace('BestZSLunseenper-classaccuracy:tensor', '').split(',')\n",
    "        #print(acc_per_class)\n",
    "        acc_per_class_all_split.append(acc_per_class)\n",
    "        \n",
    "        with open('hmdb51_acc_per_class_all.csv', 'a+') as f:\n",
    "            write = csv.writer(f)\n",
    "            write.writerow(acc_per_class)\n",
    "            "
   ]
  },
  {
   "cell_type": "code",
   "execution_count": 9,
   "metadata": {},
   "outputs": [
    {
     "data": {
      "text/plain": [
       "'Best ZSL unseen per-class accuracy: tensor([0.0280, 0.0196, 0.1019, 0.4466, 0.2866, 0.4259, 0.3088, 0.9429, 0.9646,        0.2756, 0.0508, 0.1385, 0.4453, 0.6176, 0.0079, 0.0086, 0.3592, 0.7767,        0.1422, 0.6173, 0.2718, 0.3524, 0.0394, 0.1292, 0.3887])'"
      ]
     },
     "execution_count": 9,
     "metadata": {},
     "output_type": "execute_result"
    }
   ],
   "source": [
    "split1 = lines[10] + lines[11] + lines[12]\n",
    "split1"
   ]
  },
  {
   "cell_type": "code",
   "execution_count": 10,
   "metadata": {},
   "outputs": [],
   "source": [
    "acc_per_class_sp1 = split1.replace('(', '').replace(')', '').replace('[', '').replace(']', '').replace(' ', '').replace('BestZSLunseenper-classaccuracy:tensor', '').split(',')"
   ]
  },
  {
   "cell_type": "code",
   "execution_count": 11,
   "metadata": {},
   "outputs": [
    {
     "data": {
      "text/plain": [
       "['0.0280',\n",
       " '0.0196',\n",
       " '0.1019',\n",
       " '0.4466',\n",
       " '0.2866',\n",
       " '0.4259',\n",
       " '0.3088',\n",
       " '0.9429',\n",
       " '0.9646',\n",
       " '0.2756',\n",
       " '0.0508',\n",
       " '0.1385',\n",
       " '0.4453',\n",
       " '0.6176',\n",
       " '0.0079',\n",
       " '0.0086',\n",
       " '0.3592',\n",
       " '0.7767',\n",
       " '0.1422',\n",
       " '0.6173',\n",
       " '0.2718',\n",
       " '0.3524',\n",
       " '0.0394',\n",
       " '0.1292',\n",
       " '0.3887']"
      ]
     },
     "execution_count": 11,
     "metadata": {},
     "output_type": "execute_result"
    }
   ],
   "source": [
    "acc_per_class_sp1"
   ]
  },
  {
   "cell_type": "code",
   "execution_count": 12,
   "metadata": {},
   "outputs": [
    {
     "data": {
      "text/plain": [
       "'Best ZSL unseen per-class accuracy: tensor([0.4393, 0.6822, 0.0000, 0.6308, 0.1111, 0.7685, 0.0956, 0.6121, 0.0000,        0.0000, 0.0265, 0.1987, 0.6538, 0.7891, 0.0000, 0.6415, 0.0086, 0.6893,        0.5049, 0.5991, 0.9237, 0.2762, 0.0571, 0.8531, 0.1538])'"
      ]
     },
     "execution_count": 12,
     "metadata": {},
     "output_type": "execute_result"
    }
   ],
   "source": [
    "# next 13 lines for next split\n",
    "split2 = lines[23] + lines[24] + lines[25]\n",
    "split2"
   ]
  },
  {
   "cell_type": "code",
   "execution_count": 13,
   "metadata": {},
   "outputs": [],
   "source": [
    "acc_per_class_sp2 = split2.replace('(', '').replace(')', '').replace('[', '').replace(']', '').replace(' ', '').replace('BestZSLunseenper-classaccuracy:tensor', '').split(',')"
   ]
  },
  {
   "cell_type": "code",
   "execution_count": 16,
   "metadata": {},
   "outputs": [
    {
     "data": {
      "text/plain": [
       "['0.4393',\n",
       " '0.6822',\n",
       " '0.0000',\n",
       " '0.6308',\n",
       " '0.1111',\n",
       " '0.7685',\n",
       " '0.0956',\n",
       " '0.6121',\n",
       " '0.0000',\n",
       " '0.0000',\n",
       " '0.0265',\n",
       " '0.1987',\n",
       " '0.6538',\n",
       " '0.7891',\n",
       " '0.0000',\n",
       " '0.6415',\n",
       " '0.0086',\n",
       " '0.6893',\n",
       " '0.5049',\n",
       " '0.5991',\n",
       " '0.9237',\n",
       " '0.2762',\n",
       " '0.0571',\n",
       " '0.8531',\n",
       " '0.1538']"
      ]
     },
     "execution_count": 16,
     "metadata": {},
     "output_type": "execute_result"
    }
   ],
   "source": [
    "acc_per_class_sp2"
   ]
  },
  {
   "cell_type": "code",
   "execution_count": null,
   "metadata": {},
   "outputs": [],
   "source": []
  }
 ],
 "metadata": {
  "kernelspec": {
   "display_name": "kg_gnn_gan",
   "language": "python",
   "name": "kg_gnn_gan"
  },
  "language_info": {
   "codemirror_mode": {
    "name": "ipython",
    "version": 3
   },
   "file_extension": ".py",
   "mimetype": "text/x-python",
   "name": "python",
   "nbconvert_exporter": "python",
   "pygments_lexer": "ipython3",
   "version": "3.7.1"
  }
 },
 "nbformat": 4,
 "nbformat_minor": 5
}
